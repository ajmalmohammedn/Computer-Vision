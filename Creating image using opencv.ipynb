{
 "cells": [
  {
   "cell_type": "code",
   "execution_count": 83,
   "metadata": {},
   "outputs": [],
   "source": [
    "import numpy "
   ]
  },
  {
   "cell_type": "code",
   "execution_count": 84,
   "metadata": {},
   "outputs": [],
   "source": [
    "import cv2"
   ]
  },
  {
   "cell_type": "code",
   "execution_count": 85,
   "metadata": {},
   "outputs": [],
   "source": [
    "cn = numpy.zeros((600, 600, 3))"
   ]
  },
  {
   "cell_type": "code",
   "execution_count": 86,
   "metadata": {},
   "outputs": [
    {
     "data": {
      "text/plain": [
       "(600, 600, 3)"
      ]
     },
     "execution_count": 86,
     "metadata": {},
     "output_type": "execute_result"
    }
   ],
   "source": [
    "cn.shape\n"
   ]
  },
  {
   "cell_type": "code",
   "execution_count": 87,
   "metadata": {},
   "outputs": [],
   "source": [
    "# head\n",
    "cn[150:230, 250:350] = (0, 255, 0) # color format in BGR\n",
    "cn[150:230, 250:350][10:20, 20:30] = (0,0,0)\n",
    "cn[150:230, 250:350][10:20, 75:85] = (0,0,0)\n",
    "cn[150:230, 250:350][34:48, 50:55] = (0,0,0)\n",
    "cn[150:230, 250:350][60:65, 38:65] = (0,0,0)"
   ]
  },
  {
   "cell_type": "code",
   "execution_count": 88,
   "metadata": {},
   "outputs": [],
   "source": [
    "# body \n",
    "cn[231:370, 230:370] = (0, 0, 255)\n",
    "# cn[231:370, 301:303] = (0)"
   ]
  },
  {
   "cell_type": "code",
   "execution_count": 89,
   "metadata": {},
   "outputs": [],
   "source": [
    "# left hand \n",
    "cn[260:280, 180:229] = (255, 255, 0)\n",
    "cn[260:330, 160:180] = (255, 255, 0)"
   ]
  },
  {
   "cell_type": "code",
   "execution_count": 90,
   "metadata": {},
   "outputs": [],
   "source": [
    "# right hand \n",
    "cn[260:280, 371:426] = (255, 255, 0)\n",
    "cn[260:325, 426:446] = (255, 255, 0)"
   ]
  },
  {
   "cell_type": "code",
   "execution_count": 91,
   "metadata": {},
   "outputs": [],
   "source": [
    "# leg\n",
    "cn[371:460, 240:270] = (102, 0, 102)\n",
    "cn[371:460, 332:360] = (102, 0, 102)"
   ]
  },
  {
   "cell_type": "code",
   "execution_count": 92,
   "metadata": {},
   "outputs": [],
   "source": [
    "# toe\n",
    "cn[461:475, 235:275] = (0, 102, 102)\n",
    "cn[461:475, 328:365] = (0, 102, 102)"
   ]
  },
  {
   "cell_type": "code",
   "execution_count": 93,
   "metadata": {},
   "outputs": [],
   "source": [
    "cv2.imshow(\"Image\", cn)\n",
    "cv2.waitKey()\n",
    "cv2.destroyAllWindows()"
   ]
  },
  {
   "cell_type": "code",
   "execution_count": null,
   "metadata": {},
   "outputs": [],
   "source": []
  },
  {
   "cell_type": "code",
   "execution_count": null,
   "metadata": {},
   "outputs": [],
   "source": []
  }
 ],
 "metadata": {
  "kernelspec": {
   "display_name": "Python 3",
   "language": "python",
   "name": "python3"
  },
  "language_info": {
   "codemirror_mode": {
    "name": "ipython",
    "version": 3
   },
   "file_extension": ".py",
   "mimetype": "text/x-python",
   "name": "python",
   "nbconvert_exporter": "python",
   "pygments_lexer": "ipython3",
   "version": "3.8.5"
  }
 },
 "nbformat": 4,
 "nbformat_minor": 4
}
